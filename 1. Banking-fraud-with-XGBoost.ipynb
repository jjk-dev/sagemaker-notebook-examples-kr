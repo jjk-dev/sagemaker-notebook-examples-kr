{
 "cells": [
  {
   "cell_type": "markdown",
   "metadata": {},
   "source": [
    "# 은행 사기 탐지\n",
    "\n",
    "은행거래에서의 사기를 판별하는 것은 실제 은행에서 매우 중요한 일이며 매우 소수가 사기(Fraud)이지만 만약 그 거래가 잘 탐지되지 않았을 때 피해는 매우 큽니다. 이 notebook을 통해 가상의 금융 거래 데이터로 데이터 분석 및 이진 분류 모델을 (binary classifier) 만들겠습니다. 데이터는 [kaggle](https://www.kaggle.com/ntnu-testimon/paysim1)에서도 받으실 수 있고, 여기서 사용된 데이터는 이미 가공을 한 번 거친 상태이기에 column이나 row 수가 다를 수 있습니다.\n",
    "\n",
    "## 데이터 설명\n",
    "\n",
    "이 데이터셋은 금융 응용프로그램의 연구를 돕기 위한 시뮬레이션 데이터셋으로, 9개의 컬럼으로 300개의 레코드를 갖습니다. 각 레코드는 하나의 거래를 의미하며 입금(cash in), 출금(cash out), 직불(debit), 신용(credit), 또는 송금(transfer)를 나타내고, 각 거래는 금액과 거래주체(name of origin) 등을 가집니다. 사기여부를 나타내는 ``isFraud``가 label 혹은 target column이 됩니다.\n",
    "\n",
    "- type : 거래 유형 (CASH-IN, CASH-OUT, DEBIT, PAYMENT, TRANSFER)\n",
    "- amount : 거래 금액\n",
    "- nameOrig : 거래를 시작한 주체\n",
    "- oldbalanceOrg : 거래 시작 주체의 거래 이전 잔고\n",
    "- newbalanceOrig : 거래 시작 주체의 거래 이후 잔고\n",
    "- nameDest : 거래 대상 주체\n",
    "- oldbalanceDest : 거래 대상의 거래 이전 잔고\n",
    "- newbalanceDest : 거래 대상의 거래 이후 잔고\n",
    "- isFraud : 사기 여부"
   ]
  },
  {
   "cell_type": "markdown",
   "metadata": {},
   "source": [
    "## Setup\n",
    "\n",
    "Notebook을 진행하기 위해 여러 라이브러리를 다운로드 합니다."
   ]
  },
  {
   "cell_type": "markdown",
   "metadata": {},
   "source": [
    "### Import libraries"
   ]
  },
  {
   "cell_type": "code",
   "execution_count": 1,
   "metadata": {},
   "outputs": [],
   "source": [
    "import os                                         # For manipulating filepath names  \n",
    "import sys                                        # For writing outputs to notebook\n",
    "import math                                       # For ceiling function\n",
    "import json                                       # For parsing hosting outputs\n",
    "\n",
    "import numpy as np                                # For matrix operations and numerical processing\n",
    "import pandas as pd                               # For munging tabular data\n",
    "import matplotlib.pyplot as plt                   # For charts and visualizations\n",
    "from IPython.display import Image                 # For displaying images in the notebook\n",
    "from IPython.display import display               # For displaying outputs in the notebook\n",
    "from time import gmtime, strftime                 # For labeling SageMaker models, endpoints, etc.\n",
    "\n",
    "import sagemaker                                  # Amazon SageMaker's Python SDK provides many helper functions\n",
    "from sagemaker import get_execution_role          # Define IAM role\n",
    "from sklearn.preprocessing import MinMaxScaler\n",
    "\n",
    "import boto3"
   ]
  },
  {
   "cell_type": "markdown",
   "metadata": {},
   "source": [
    "### Set boto3 and variables\n",
    "\n",
    "세션을 연결하고 IAM (Identity and Access Management) 역할을 검색합니다. 데이터를 불러오고 저장할 ``S3 bucket의 이름`` 및 ``학번``과 같이 앞으로 사용될 값을 설정합니다."
   ]
  },
  {
   "cell_type": "code",
   "execution_count": 2,
   "metadata": {},
   "outputs": [],
   "source": [
    "sagemaker_session = sagemaker.Session()\n",
    "s3 = boto3.resource('s3')\n",
    "role = get_execution_role()"
   ]
  },
  {
   "cell_type": "markdown",
   "metadata": {},
   "source": [
    "### 아래 값을 변경해주세요."
   ]
  },
  {
   "cell_type": "code",
   "execution_count": 6,
   "metadata": {},
   "outputs": [],
   "source": [
    "bucket = 'CHANGE TO YOUR S3 BUCKET NAME'           # 여러분의 S3 bucket 명으로 변경해주세요. 예) 'sagemaekr-workshop-성함'"
   ]
  },
  {
   "cell_type": "code",
   "execution_count": 7,
   "metadata": {},
   "outputs": [],
   "source": [
    "file = 'banking_fraud.csv'                         # 불러올 파일의 이름입니다 \n",
    "prefix = 'banking-fraud'                           # S3 bucket에서의 폴더명이라고 생각하시면 됩니다        \n",
    "\n",
    "data_location = 's3://{}/{}'.format(bucket, file) "
   ]
  },
  {
   "cell_type": "markdown",
   "metadata": {},
   "source": [
    "## Data Preprocessing\n",
    "### Read dataset\n",
    "\n",
    "위의 셀에서 설정한 S3 bucket 위치에서 데이터를 불러옵니다."
   ]
  },
  {
   "cell_type": "code",
   "execution_count": 8,
   "metadata": {},
   "outputs": [
    {
     "data": {
      "text/plain": [
       "(3000, 9)"
      ]
     },
     "execution_count": 8,
     "metadata": {},
     "output_type": "execute_result"
    }
   ],
   "source": [
    "df = pd.read_csv(data_location)\n",
    "\n",
    "df.shape"
   ]
  },
  {
   "cell_type": "code",
   "execution_count": 9,
   "metadata": {},
   "outputs": [
    {
     "data": {
      "text/html": [
       "<div>\n",
       "<style scoped>\n",
       "    .dataframe tbody tr th:only-of-type {\n",
       "        vertical-align: middle;\n",
       "    }\n",
       "\n",
       "    .dataframe tbody tr th {\n",
       "        vertical-align: top;\n",
       "    }\n",
       "\n",
       "    .dataframe thead th {\n",
       "        text-align: right;\n",
       "    }\n",
       "</style>\n",
       "<table border=\"1\" class=\"dataframe\">\n",
       "  <thead>\n",
       "    <tr style=\"text-align: right;\">\n",
       "      <th></th>\n",
       "      <th>type</th>\n",
       "      <th>amount</th>\n",
       "      <th>nameOrig</th>\n",
       "      <th>oldbalanceOrg</th>\n",
       "      <th>newbalanceOrig</th>\n",
       "      <th>nameDest</th>\n",
       "      <th>oldbalanceDest</th>\n",
       "      <th>newbalanceDest</th>\n",
       "      <th>isFraud</th>\n",
       "    </tr>\n",
       "  </thead>\n",
       "  <tbody>\n",
       "    <tr>\n",
       "      <th>0</th>\n",
       "      <td>CASH_OUT</td>\n",
       "      <td>140421.18</td>\n",
       "      <td>C1667570766</td>\n",
       "      <td>16004.0</td>\n",
       "      <td>0.00</td>\n",
       "      <td>C2102410298</td>\n",
       "      <td>0.00</td>\n",
       "      <td>140421.18</td>\n",
       "      <td>0</td>\n",
       "    </tr>\n",
       "    <tr>\n",
       "      <th>1</th>\n",
       "      <td>CASH_OUT</td>\n",
       "      <td>216666.53</td>\n",
       "      <td>C1495945377</td>\n",
       "      <td>50398.0</td>\n",
       "      <td>0.00</td>\n",
       "      <td>C814408370</td>\n",
       "      <td>10119297.16</td>\n",
       "      <td>10335963.70</td>\n",
       "      <td>0</td>\n",
       "    </tr>\n",
       "    <tr>\n",
       "      <th>2</th>\n",
       "      <td>CASH_OUT</td>\n",
       "      <td>234636.20</td>\n",
       "      <td>C269129885</td>\n",
       "      <td>74262.0</td>\n",
       "      <td>0.00</td>\n",
       "      <td>C1389815469</td>\n",
       "      <td>166046.48</td>\n",
       "      <td>400682.68</td>\n",
       "      <td>0</td>\n",
       "    </tr>\n",
       "    <tr>\n",
       "      <th>3</th>\n",
       "      <td>CASH_IN</td>\n",
       "      <td>52816.29</td>\n",
       "      <td>C129678616</td>\n",
       "      <td>117751.0</td>\n",
       "      <td>170567.29</td>\n",
       "      <td>C842027837</td>\n",
       "      <td>0.00</td>\n",
       "      <td>0.00</td>\n",
       "      <td>0</td>\n",
       "    </tr>\n",
       "    <tr>\n",
       "      <th>4</th>\n",
       "      <td>CASH_OUT</td>\n",
       "      <td>63871.25</td>\n",
       "      <td>C1282823885</td>\n",
       "      <td>6012.0</td>\n",
       "      <td>0.00</td>\n",
       "      <td>C1236511065</td>\n",
       "      <td>456488.36</td>\n",
       "      <td>520359.60</td>\n",
       "      <td>0</td>\n",
       "    </tr>\n",
       "  </tbody>\n",
       "</table>\n",
       "</div>"
      ],
      "text/plain": [
       "       type     amount     nameOrig  oldbalanceOrg  newbalanceOrig  \\\n",
       "0  CASH_OUT  140421.18  C1667570766        16004.0            0.00   \n",
       "1  CASH_OUT  216666.53  C1495945377        50398.0            0.00   \n",
       "2  CASH_OUT  234636.20   C269129885        74262.0            0.00   \n",
       "3   CASH_IN   52816.29   C129678616       117751.0       170567.29   \n",
       "4  CASH_OUT   63871.25  C1282823885         6012.0            0.00   \n",
       "\n",
       "      nameDest  oldbalanceDest  newbalanceDest  isFraud  \n",
       "0  C2102410298            0.00       140421.18        0  \n",
       "1   C814408370     10119297.16     10335963.70        0  \n",
       "2  C1389815469       166046.48       400682.68        0  \n",
       "3   C842027837            0.00            0.00        0  \n",
       "4  C1236511065       456488.36       520359.60        0  "
      ]
     },
     "execution_count": 9,
     "metadata": {},
     "output_type": "execute_result"
    }
   ],
   "source": [
    "df.head()"
   ]
  },
  {
   "cell_type": "markdown",
   "metadata": {},
   "source": [
    "``isFraud``를 예측하는 모델을 만들 것이기에 isFraud 가 1 (True) 인 값이 얼마나 많은지 확인합니다. 전체의 11.2%가 Fraud인 것을 알 수 있습니다."
   ]
  },
  {
   "cell_type": "code",
   "execution_count": 10,
   "metadata": {},
   "outputs": [
    {
     "data": {
      "text/plain": [
       "0.112"
      ]
     },
     "execution_count": 10,
     "metadata": {},
     "output_type": "execute_result"
    }
   ],
   "source": [
    "df['isFraud'].mean() "
   ]
  },
  {
   "cell_type": "markdown",
   "metadata": {},
   "source": [
    "## EDA (Exploratory Data Analysis, 탐색적 데이터 분석)\n",
    "\n",
    "모델을 만들기 위해 데이터의 분포 및 평균, 어떤 feature가 있는지 등을 확인합니다. 각 feature에 대한 정보를 통해 feature engineering을 진행하게 됩니다."
   ]
  },
  {
   "cell_type": "code",
   "execution_count": 11,
   "metadata": {},
   "outputs": [
    {
     "name": "stdout",
     "output_type": "stream",
     "text": [
      "type 5\n",
      "nameOrig 3000\n",
      "nameDest 2999\n"
     ]
    }
   ],
   "source": [
    "# Frequency tables for each categorical feature\n",
    "for column in df.select_dtypes(include=['object']).columns:\n",
    "    print(column, len(df[column].unique()))"
   ]
  },
  {
   "cell_type": "markdown",
   "metadata": {},
   "source": [
    "각 categorical feature의 값을 확인할 수 있습니다.\n",
    "- type: 5개의 카테고리가 있으므로 one-hot-encoding 으로 변형\n",
    "- nameOrig, nameDest: 많은 카테고리가 존재하므로 삭제"
   ]
  },
  {
   "cell_type": "code",
   "execution_count": 12,
   "metadata": {
    "scrolled": true
   },
   "outputs": [
    {
     "data": {
      "text/html": [
       "<div>\n",
       "<style scoped>\n",
       "    .dataframe tbody tr th:only-of-type {\n",
       "        vertical-align: middle;\n",
       "    }\n",
       "\n",
       "    .dataframe tbody tr th {\n",
       "        vertical-align: top;\n",
       "    }\n",
       "\n",
       "    .dataframe thead th {\n",
       "        text-align: right;\n",
       "    }\n",
       "</style>\n",
       "<table border=\"1\" class=\"dataframe\">\n",
       "  <thead>\n",
       "    <tr style=\"text-align: right;\">\n",
       "      <th>col_0</th>\n",
       "      <th>% observations</th>\n",
       "    </tr>\n",
       "    <tr>\n",
       "      <th>type</th>\n",
       "      <th></th>\n",
       "    </tr>\n",
       "  </thead>\n",
       "  <tbody>\n",
       "    <tr>\n",
       "      <th>CASH_IN</th>\n",
       "      <td>0.144667</td>\n",
       "    </tr>\n",
       "    <tr>\n",
       "      <th>CASH_OUT</th>\n",
       "      <td>0.311667</td>\n",
       "    </tr>\n",
       "    <tr>\n",
       "      <th>DEBIT</th>\n",
       "      <td>0.017000</td>\n",
       "    </tr>\n",
       "    <tr>\n",
       "      <th>PAYMENT</th>\n",
       "      <td>0.414667</td>\n",
       "    </tr>\n",
       "    <tr>\n",
       "      <th>TRANSFER</th>\n",
       "      <td>0.112000</td>\n",
       "    </tr>\n",
       "  </tbody>\n",
       "</table>\n",
       "</div>"
      ],
      "text/plain": [
       "col_0     % observations\n",
       "type                    \n",
       "CASH_IN         0.144667\n",
       "CASH_OUT        0.311667\n",
       "DEBIT           0.017000\n",
       "PAYMENT         0.414667\n",
       "TRANSFER        0.112000"
      ]
     },
     "metadata": {},
     "output_type": "display_data"
    }
   ],
   "source": [
    "# type의 카테고리 확인\n",
    "column = 'type'\n",
    "display(pd.crosstab(index=df[column], columns='% observations', normalize='columns'))"
   ]
  },
  {
   "cell_type": "code",
   "execution_count": 13,
   "metadata": {},
   "outputs": [
    {
     "data": {
      "text/html": [
       "<div>\n",
       "<style scoped>\n",
       "    .dataframe tbody tr th:only-of-type {\n",
       "        vertical-align: middle;\n",
       "    }\n",
       "\n",
       "    .dataframe tbody tr th {\n",
       "        vertical-align: top;\n",
       "    }\n",
       "\n",
       "    .dataframe thead th {\n",
       "        text-align: right;\n",
       "    }\n",
       "</style>\n",
       "<table border=\"1\" class=\"dataframe\">\n",
       "  <thead>\n",
       "    <tr style=\"text-align: right;\">\n",
       "      <th></th>\n",
       "      <th>amount</th>\n",
       "      <th>oldbalanceOrg</th>\n",
       "      <th>newbalanceOrig</th>\n",
       "      <th>oldbalanceDest</th>\n",
       "      <th>newbalanceDest</th>\n",
       "      <th>isFraud</th>\n",
       "    </tr>\n",
       "  </thead>\n",
       "  <tbody>\n",
       "    <tr>\n",
       "      <th>count</th>\n",
       "      <td>3.000000e+03</td>\n",
       "      <td>3.000000e+03</td>\n",
       "      <td>3.000000e+03</td>\n",
       "      <td>3.000000e+03</td>\n",
       "      <td>3.000000e+03</td>\n",
       "      <td>3000.000000</td>\n",
       "    </tr>\n",
       "    <tr>\n",
       "      <th>mean</th>\n",
       "      <td>2.542131e+05</td>\n",
       "      <td>3.209679e+05</td>\n",
       "      <td>1.460443e+05</td>\n",
       "      <td>6.789421e+05</td>\n",
       "      <td>8.044602e+05</td>\n",
       "      <td>0.112000</td>\n",
       "    </tr>\n",
       "    <tr>\n",
       "      <th>std</th>\n",
       "      <td>1.072189e+06</td>\n",
       "      <td>2.255314e+06</td>\n",
       "      <td>1.592268e+06</td>\n",
       "      <td>3.156094e+06</td>\n",
       "      <td>3.243301e+06</td>\n",
       "      <td>0.315419</td>\n",
       "    </tr>\n",
       "    <tr>\n",
       "      <th>min</th>\n",
       "      <td>0.000000e+00</td>\n",
       "      <td>0.000000e+00</td>\n",
       "      <td>0.000000e+00</td>\n",
       "      <td>0.000000e+00</td>\n",
       "      <td>0.000000e+00</td>\n",
       "      <td>0.000000</td>\n",
       "    </tr>\n",
       "    <tr>\n",
       "      <th>25%</th>\n",
       "      <td>7.515708e+03</td>\n",
       "      <td>1.035475e+04</td>\n",
       "      <td>0.000000e+00</td>\n",
       "      <td>0.000000e+00</td>\n",
       "      <td>0.000000e+00</td>\n",
       "      <td>0.000000</td>\n",
       "    </tr>\n",
       "    <tr>\n",
       "      <th>50%</th>\n",
       "      <td>3.297213e+04</td>\n",
       "      <td>3.058350e+04</td>\n",
       "      <td>4.176675e+03</td>\n",
       "      <td>0.000000e+00</td>\n",
       "      <td>0.000000e+00</td>\n",
       "      <td>0.000000</td>\n",
       "    </tr>\n",
       "    <tr>\n",
       "      <th>75%</th>\n",
       "      <td>1.522532e+05</td>\n",
       "      <td>9.948825e+04</td>\n",
       "      <td>6.888302e+04</td>\n",
       "      <td>2.255525e+05</td>\n",
       "      <td>3.795359e+05</td>\n",
       "      <td>0.000000</td>\n",
       "    </tr>\n",
       "    <tr>\n",
       "      <th>max</th>\n",
       "      <td>1.000000e+07</td>\n",
       "      <td>5.731626e+07</td>\n",
       "      <td>4.731626e+07</td>\n",
       "      <td>1.053767e+08</td>\n",
       "      <td>1.052426e+08</td>\n",
       "      <td>1.000000</td>\n",
       "    </tr>\n",
       "  </tbody>\n",
       "</table>\n",
       "</div>"
      ],
      "text/plain": [
       "             amount  oldbalanceOrg  newbalanceOrig  oldbalanceDest  \\\n",
       "count  3.000000e+03   3.000000e+03    3.000000e+03    3.000000e+03   \n",
       "mean   2.542131e+05   3.209679e+05    1.460443e+05    6.789421e+05   \n",
       "std    1.072189e+06   2.255314e+06    1.592268e+06    3.156094e+06   \n",
       "min    0.000000e+00   0.000000e+00    0.000000e+00    0.000000e+00   \n",
       "25%    7.515708e+03   1.035475e+04    0.000000e+00    0.000000e+00   \n",
       "50%    3.297213e+04   3.058350e+04    4.176675e+03    0.000000e+00   \n",
       "75%    1.522532e+05   9.948825e+04    6.888302e+04    2.255525e+05   \n",
       "max    1.000000e+07   5.731626e+07    4.731626e+07    1.053767e+08   \n",
       "\n",
       "       newbalanceDest      isFraud  \n",
       "count    3.000000e+03  3000.000000  \n",
       "mean     8.044602e+05     0.112000  \n",
       "std      3.243301e+06     0.315419  \n",
       "min      0.000000e+00     0.000000  \n",
       "25%      0.000000e+00     0.000000  \n",
       "50%      0.000000e+00     0.000000  \n",
       "75%      3.795359e+05     0.000000  \n",
       "max      1.052426e+08     1.000000  "
      ]
     },
     "metadata": {},
     "output_type": "display_data"
    },
    {
     "data": {
      "image/png": "[encoded data removed]",
      "text/plain": [
       "<Figure size 720x720 with 6 Axes>"
      ]
     },
     "metadata": {
      "needs_background": "light"
     },
     "output_type": "display_data"
    }
   ],
   "source": [
    "# 히스토그램을 통해 numeric features 의 분포 확인\n",
    "display(df.describe())\n",
    "\n",
    "%matplotlib inline\n",
    "hist = df.hist(bins=30, sharey=True, figsize=(10, 10))"
   ]
  },
  {
   "cell_type": "markdown",
   "metadata": {},
   "source": [
    "### Correlation 확인\n",
    "\n",
    "각 feature 가 얼마나 유용할지 간접적으로 살펴보기 위하여 target variable 인 isFraud 와의 상관관계를 살펴봅니다."
   ]
  },
  {
   "cell_type": "code",
   "execution_count": 14,
   "metadata": {},
   "outputs": [
    {
     "data": {
      "text/html": [
       "<div>\n",
       "<style scoped>\n",
       "    .dataframe tbody tr th:only-of-type {\n",
       "        vertical-align: middle;\n",
       "    }\n",
       "\n",
       "    .dataframe tbody tr th {\n",
       "        vertical-align: top;\n",
       "    }\n",
       "\n",
       "    .dataframe thead th {\n",
       "        text-align: right;\n",
       "    }\n",
       "</style>\n",
       "<table border=\"1\" class=\"dataframe\">\n",
       "  <thead>\n",
       "    <tr style=\"text-align: right;\">\n",
       "      <th>isFraud</th>\n",
       "      <th>0</th>\n",
       "      <th>1</th>\n",
       "    </tr>\n",
       "    <tr>\n",
       "      <th>type</th>\n",
       "      <th></th>\n",
       "      <th></th>\n",
       "    </tr>\n",
       "  </thead>\n",
       "  <tbody>\n",
       "    <tr>\n",
       "      <th>CASH_IN</th>\n",
       "      <td>0.162913</td>\n",
       "      <td>0.0</td>\n",
       "    </tr>\n",
       "    <tr>\n",
       "      <th>CASH_OUT</th>\n",
       "      <td>0.287913</td>\n",
       "      <td>0.5</td>\n",
       "    </tr>\n",
       "    <tr>\n",
       "      <th>DEBIT</th>\n",
       "      <td>0.019144</td>\n",
       "      <td>0.0</td>\n",
       "    </tr>\n",
       "    <tr>\n",
       "      <th>PAYMENT</th>\n",
       "      <td>0.466967</td>\n",
       "      <td>0.0</td>\n",
       "    </tr>\n",
       "    <tr>\n",
       "      <th>TRANSFER</th>\n",
       "      <td>0.063063</td>\n",
       "      <td>0.5</td>\n",
       "    </tr>\n",
       "  </tbody>\n",
       "</table>\n",
       "</div>"
      ],
      "text/plain": [
       "isFraud          0    1\n",
       "type                   \n",
       "CASH_IN   0.162913  0.0\n",
       "CASH_OUT  0.287913  0.5\n",
       "DEBIT     0.019144  0.0\n",
       "PAYMENT   0.466967  0.0\n",
       "TRANSFER  0.063063  0.5"
      ]
     },
     "metadata": {},
     "output_type": "display_data"
    }
   ],
   "source": [
    "y_column = 'isFraud'\n",
    "x_column = 'type'\n",
    "display(pd.crosstab(index=df[x_column], columns=df[y_column], normalize='columns'))"
   ]
  },
  {
   "cell_type": "code",
   "execution_count": 15,
   "metadata": {
    "scrolled": false
   },
   "outputs": [
    {
     "name": "stdout",
     "output_type": "stream",
     "text": [
      "amount\n"
     ]
    },
    {
     "data": {
      "image/png": "[encoded data removed]",
      "text/plain": [
       "<Figure size 432x288 with 2 Axes>"
      ]
     },
     "metadata": {
      "needs_background": "light"
     },
     "output_type": "display_data"
    },
    {
     "name": "stdout",
     "output_type": "stream",
     "text": [
      "oldbalanceOrg\n"
     ]
    },
    {
     "data": {
      "image/png": "[encoded data removed]",
      "text/plain": [
       "<Figure size 432x288 with 2 Axes>"
      ]
     },
     "metadata": {
      "needs_background": "light"
     },
     "output_type": "display_data"
    },
    {
     "name": "stdout",
     "output_type": "stream",
     "text": [
      "newbalanceOrig\n"
     ]
    },
    {
     "data": {
      "image/png": "[encoded data removed]",
      "text/plain": [
       "<Figure size 432x288 with 2 Axes>"
      ]
     },
     "metadata": {
      "needs_background": "light"
     },
     "output_type": "display_data"
    },
    {
     "name": "stdout",
     "output_type": "stream",
     "text": [
      "oldbalanceDest\n"
     ]
    },
    {
     "data": {
      "image/png": "[encoded data removed]",
      "text/plain": [
       "<Figure size 432x288 with 2 Axes>"
      ]
     },
     "metadata": {
      "needs_background": "light"
     },
     "output_type": "display_data"
    },
    {
     "name": "stdout",
     "output_type": "stream",
     "text": [
      "newbalanceDest\n"
     ]
    },
    {
     "data": {
      "image/png": "[encoded data removed]",
      "text/plain": [
       "<Figure size 432x288 with 2 Axes>"
      ]
     },
     "metadata": {
      "needs_background": "light"
     },
     "output_type": "display_data"
    },
    {
     "name": "stdout",
     "output_type": "stream",
     "text": [
      "isFraud\n"
     ]
    },
    {
     "data": {
      "image/png": "[encoded data removed]",
      "text/plain": [
       "<Figure size 432x288 with 2 Axes>"
      ]
     },
     "metadata": {
      "needs_background": "light"
     },
     "output_type": "display_data"
    }
   ],
   "source": [
    "for column in df.select_dtypes(exclude=['object']).columns:\n",
    "    print(column)\n",
    "    hist = df[column].hist(by=df[y_column], bins=30)\n",
    "    plt.show()"
   ]
  },
  {
   "cell_type": "code",
   "execution_count": 16,
   "metadata": {
    "scrolled": true
   },
   "outputs": [
    {
     "data": {
      "text/html": [
       "<div>\n",
       "<style scoped>\n",
       "    .dataframe tbody tr th:only-of-type {\n",
       "        vertical-align: middle;\n",
       "    }\n",
       "\n",
       "    .dataframe tbody tr th {\n",
       "        vertical-align: top;\n",
       "    }\n",
       "\n",
       "    .dataframe thead th {\n",
       "        text-align: right;\n",
       "    }\n",
       "</style>\n",
       "<table border=\"1\" class=\"dataframe\">\n",
       "  <thead>\n",
       "    <tr style=\"text-align: right;\">\n",
       "      <th></th>\n",
       "      <th>amount</th>\n",
       "      <th>oldbalanceOrg</th>\n",
       "      <th>newbalanceOrig</th>\n",
       "      <th>oldbalanceDest</th>\n",
       "      <th>newbalanceDest</th>\n",
       "      <th>isFraud</th>\n",
       "    </tr>\n",
       "  </thead>\n",
       "  <tbody>\n",
       "    <tr>\n",
       "      <th>amount</th>\n",
       "      <td>1.000000</td>\n",
       "      <td>0.793612</td>\n",
       "      <td>0.485213</td>\n",
       "      <td>-0.010605</td>\n",
       "      <td>0.147020</td>\n",
       "      <td>0.465154</td>\n",
       "    </tr>\n",
       "    <tr>\n",
       "      <th>oldbalanceOrg</th>\n",
       "      <td>0.793612</td>\n",
       "      <td>1.000000</td>\n",
       "      <td>0.906651</td>\n",
       "      <td>-0.018543</td>\n",
       "      <td>0.054395</td>\n",
       "      <td>0.324129</td>\n",
       "    </tr>\n",
       "    <tr>\n",
       "      <th>newbalanceOrig</th>\n",
       "      <td>0.485213</td>\n",
       "      <td>0.906651</td>\n",
       "      <td>1.000000</td>\n",
       "      <td>-0.009689</td>\n",
       "      <td>-0.013352</td>\n",
       "      <td>0.143456</td>\n",
       "    </tr>\n",
       "    <tr>\n",
       "      <th>oldbalanceDest</th>\n",
       "      <td>-0.010605</td>\n",
       "      <td>-0.018543</td>\n",
       "      <td>-0.009689</td>\n",
       "      <td>1.000000</td>\n",
       "      <td>0.972684</td>\n",
       "      <td>-0.026609</td>\n",
       "    </tr>\n",
       "    <tr>\n",
       "      <th>newbalanceDest</th>\n",
       "      <td>0.147020</td>\n",
       "      <td>0.054395</td>\n",
       "      <td>-0.013352</td>\n",
       "      <td>0.972684</td>\n",
       "      <td>1.000000</td>\n",
       "      <td>0.047420</td>\n",
       "    </tr>\n",
       "    <tr>\n",
       "      <th>isFraud</th>\n",
       "      <td>0.465154</td>\n",
       "      <td>0.324129</td>\n",
       "      <td>0.143456</td>\n",
       "      <td>-0.026609</td>\n",
       "      <td>0.047420</td>\n",
       "      <td>1.000000</td>\n",
       "    </tr>\n",
       "  </tbody>\n",
       "</table>\n",
       "</div>"
      ],
      "text/plain": [
       "                  amount  oldbalanceOrg  newbalanceOrig  oldbalanceDest  \\\n",
       "amount          1.000000       0.793612        0.485213       -0.010605   \n",
       "oldbalanceOrg   0.793612       1.000000        0.906651       -0.018543   \n",
       "newbalanceOrig  0.485213       0.906651        1.000000       -0.009689   \n",
       "oldbalanceDest -0.010605      -0.018543       -0.009689        1.000000   \n",
       "newbalanceDest  0.147020       0.054395       -0.013352        0.972684   \n",
       "isFraud         0.465154       0.324129        0.143456       -0.026609   \n",
       "\n",
       "                newbalanceDest   isFraud  \n",
       "amount                0.147020  0.465154  \n",
       "oldbalanceOrg         0.054395  0.324129  \n",
       "newbalanceOrig       -0.013352  0.143456  \n",
       "oldbalanceDest        0.972684 -0.026609  \n",
       "newbalanceDest        1.000000  0.047420  \n",
       "isFraud               0.047420  1.000000  "
      ]
     },
     "metadata": {},
     "output_type": "display_data"
    },
    {
     "data": {
      "image/png": "[encoded data removed]",
      "text/plain": [
       "<Figure size 864x864 with 36 Axes>"
      ]
     },
     "metadata": {
      "needs_background": "light"
     },
     "output_type": "display_data"
    }
   ],
   "source": [
    "display(df.corr())\n",
    "pd.plotting.scatter_matrix(df, figsize=(12, 12))\n",
    "plt.show()"
   ]
  },
  {
   "cell_type": "markdown",
   "metadata": {},
   "source": [
    "## Feature engineering\n",
    "\n",
    "- categorical feature: type 카테고리를 one-hot encoding\n",
    "- numeric feature: 정규화를 위한 min-max scaler 적용"
   ]
  },
  {
   "cell_type": "code",
   "execution_count": 17,
   "metadata": {},
   "outputs": [
    {
     "data": {
      "text/html": [
       "<div>\n",
       "<style scoped>\n",
       "    .dataframe tbody tr th:only-of-type {\n",
       "        vertical-align: middle;\n",
       "    }\n",
       "\n",
       "    .dataframe tbody tr th {\n",
       "        vertical-align: top;\n",
       "    }\n",
       "\n",
       "    .dataframe thead th {\n",
       "        text-align: right;\n",
       "    }\n",
       "</style>\n",
       "<table border=\"1\" class=\"dataframe\">\n",
       "  <thead>\n",
       "    <tr style=\"text-align: right;\">\n",
       "      <th></th>\n",
       "      <th>CASH_IN</th>\n",
       "      <th>CASH_OUT</th>\n",
       "      <th>DEBIT</th>\n",
       "      <th>PAYMENT</th>\n",
       "      <th>TRANSFER</th>\n",
       "    </tr>\n",
       "  </thead>\n",
       "  <tbody>\n",
       "    <tr>\n",
       "      <th>0</th>\n",
       "      <td>0</td>\n",
       "      <td>1</td>\n",
       "      <td>0</td>\n",
       "      <td>0</td>\n",
       "      <td>0</td>\n",
       "    </tr>\n",
       "    <tr>\n",
       "      <th>1</th>\n",
       "      <td>0</td>\n",
       "      <td>1</td>\n",
       "      <td>0</td>\n",
       "      <td>0</td>\n",
       "      <td>0</td>\n",
       "    </tr>\n",
       "    <tr>\n",
       "      <th>2</th>\n",
       "      <td>0</td>\n",
       "      <td>1</td>\n",
       "      <td>0</td>\n",
       "      <td>0</td>\n",
       "      <td>0</td>\n",
       "    </tr>\n",
       "    <tr>\n",
       "      <th>3</th>\n",
       "      <td>1</td>\n",
       "      <td>0</td>\n",
       "      <td>0</td>\n",
       "      <td>0</td>\n",
       "      <td>0</td>\n",
       "    </tr>\n",
       "    <tr>\n",
       "      <th>4</th>\n",
       "      <td>0</td>\n",
       "      <td>1</td>\n",
       "      <td>0</td>\n",
       "      <td>0</td>\n",
       "      <td>0</td>\n",
       "    </tr>\n",
       "  </tbody>\n",
       "</table>\n",
       "</div>"
      ],
      "text/plain": [
       "   CASH_IN  CASH_OUT  DEBIT  PAYMENT  TRANSFER\n",
       "0        0         1      0        0         0\n",
       "1        0         1      0        0         0\n",
       "2        0         1      0        0         0\n",
       "3        1         0      0        0         0\n",
       "4        0         1      0        0         0"
      ]
     },
     "execution_count": 17,
     "metadata": {},
     "output_type": "execute_result"
    }
   ],
   "source": [
    "one_hot = pd.get_dummies(df['type'])\n",
    "one_hot.head()"
   ]
  },
  {
   "cell_type": "code",
   "execution_count": 18,
   "metadata": {},
   "outputs": [
    {
     "data": {
      "text/plain": [
       "array([[1.40421180e-02, 2.79222709e-04, 0.00000000e+00, 0.00000000e+00,\n",
       "        1.33426150e-03],\n",
       "       [2.16666530e-02, 8.79296806e-04, 0.00000000e+00, 9.60297766e-02,\n",
       "        9.82108144e-02],\n",
       "       [2.34636200e-02, 1.29565339e-03, 0.00000000e+00, 1.57574248e-03,\n",
       "        3.80722819e-03],\n",
       "       ...,\n",
       "       [6.31140928e-01, 1.10115521e-01, 0.00000000e+00, 6.49943163e-04,\n",
       "        6.06208582e-02],\n",
       "       [8.50002520e-02, 1.48300429e-02, 0.00000000e+00, 0.00000000e+00,\n",
       "        0.00000000e+00],\n",
       "       [8.50002520e-02, 1.48300429e-02, 0.00000000e+00, 6.17793265e-02,\n",
       "        6.99346086e-02]])"
      ]
     },
     "execution_count": 18,
     "metadata": {},
     "output_type": "execute_result"
    }
   ],
   "source": [
    "numeric_features = ['amount', 'oldbalanceOrg', 'newbalanceOrig', 'oldbalanceDest', 'newbalanceDest']\n",
    "\n",
    "scaler = MinMaxScaler()\n",
    "transformed_data = scaler.fit_transform(df[numeric_features])\n",
    "transformed_data"
   ]
  },
  {
   "cell_type": "code",
   "execution_count": 19,
   "metadata": {},
   "outputs": [
    {
     "data": {
      "text/html": [
       "<div>\n",
       "<style scoped>\n",
       "    .dataframe tbody tr th:only-of-type {\n",
       "        vertical-align: middle;\n",
       "    }\n",
       "\n",
       "    .dataframe tbody tr th {\n",
       "        vertical-align: top;\n",
       "    }\n",
       "\n",
       "    .dataframe thead th {\n",
       "        text-align: right;\n",
       "    }\n",
       "</style>\n",
       "<table border=\"1\" class=\"dataframe\">\n",
       "  <thead>\n",
       "    <tr style=\"text-align: right;\">\n",
       "      <th></th>\n",
       "      <th>0</th>\n",
       "      <th>1</th>\n",
       "      <th>2</th>\n",
       "      <th>3</th>\n",
       "      <th>4</th>\n",
       "    </tr>\n",
       "  </thead>\n",
       "  <tbody>\n",
       "    <tr>\n",
       "      <th>0</th>\n",
       "      <td>0.014042</td>\n",
       "      <td>0.000279</td>\n",
       "      <td>0.000000</td>\n",
       "      <td>0.000000</td>\n",
       "      <td>0.001334</td>\n",
       "    </tr>\n",
       "    <tr>\n",
       "      <th>1</th>\n",
       "      <td>0.021667</td>\n",
       "      <td>0.000879</td>\n",
       "      <td>0.000000</td>\n",
       "      <td>0.096030</td>\n",
       "      <td>0.098211</td>\n",
       "    </tr>\n",
       "    <tr>\n",
       "      <th>2</th>\n",
       "      <td>0.023464</td>\n",
       "      <td>0.001296</td>\n",
       "      <td>0.000000</td>\n",
       "      <td>0.001576</td>\n",
       "      <td>0.003807</td>\n",
       "    </tr>\n",
       "    <tr>\n",
       "      <th>3</th>\n",
       "      <td>0.005282</td>\n",
       "      <td>0.002054</td>\n",
       "      <td>0.003605</td>\n",
       "      <td>0.000000</td>\n",
       "      <td>0.000000</td>\n",
       "    </tr>\n",
       "    <tr>\n",
       "      <th>4</th>\n",
       "      <td>0.006387</td>\n",
       "      <td>0.000105</td>\n",
       "      <td>0.000000</td>\n",
       "      <td>0.004332</td>\n",
       "      <td>0.004944</td>\n",
       "    </tr>\n",
       "    <tr>\n",
       "      <th>...</th>\n",
       "      <td>...</td>\n",
       "      <td>...</td>\n",
       "      <td>...</td>\n",
       "      <td>...</td>\n",
       "      <td>...</td>\n",
       "    </tr>\n",
       "    <tr>\n",
       "      <th>2995</th>\n",
       "      <td>0.033968</td>\n",
       "      <td>0.005926</td>\n",
       "      <td>0.000000</td>\n",
       "      <td>0.000000</td>\n",
       "      <td>0.003228</td>\n",
       "    </tr>\n",
       "    <tr>\n",
       "      <th>2996</th>\n",
       "      <td>0.631141</td>\n",
       "      <td>0.110116</td>\n",
       "      <td>0.000000</td>\n",
       "      <td>0.000000</td>\n",
       "      <td>0.000000</td>\n",
       "    </tr>\n",
       "    <tr>\n",
       "      <th>2997</th>\n",
       "      <td>0.631141</td>\n",
       "      <td>0.110116</td>\n",
       "      <td>0.000000</td>\n",
       "      <td>0.000650</td>\n",
       "      <td>0.060621</td>\n",
       "    </tr>\n",
       "    <tr>\n",
       "      <th>2998</th>\n",
       "      <td>0.085000</td>\n",
       "      <td>0.014830</td>\n",
       "      <td>0.000000</td>\n",
       "      <td>0.000000</td>\n",
       "      <td>0.000000</td>\n",
       "    </tr>\n",
       "    <tr>\n",
       "      <th>2999</th>\n",
       "      <td>0.085000</td>\n",
       "      <td>0.014830</td>\n",
       "      <td>0.000000</td>\n",
       "      <td>0.061779</td>\n",
       "      <td>0.069935</td>\n",
       "    </tr>\n",
       "  </tbody>\n",
       "</table>\n",
       "<p>3000 rows × 5 columns</p>\n",
       "</div>"
      ],
      "text/plain": [
       "             0         1         2         3         4\n",
       "0     0.014042  0.000279  0.000000  0.000000  0.001334\n",
       "1     0.021667  0.000879  0.000000  0.096030  0.098211\n",
       "2     0.023464  0.001296  0.000000  0.001576  0.003807\n",
       "3     0.005282  0.002054  0.003605  0.000000  0.000000\n",
       "4     0.006387  0.000105  0.000000  0.004332  0.004944\n",
       "...        ...       ...       ...       ...       ...\n",
       "2995  0.033968  0.005926  0.000000  0.000000  0.003228\n",
       "2996  0.631141  0.110116  0.000000  0.000000  0.000000\n",
       "2997  0.631141  0.110116  0.000000  0.000650  0.060621\n",
       "2998  0.085000  0.014830  0.000000  0.000000  0.000000\n",
       "2999  0.085000  0.014830  0.000000  0.061779  0.069935\n",
       "\n",
       "[3000 rows x 5 columns]"
      ]
     },
     "execution_count": 19,
     "metadata": {},
     "output_type": "execute_result"
    }
   ],
   "source": [
    "transformed_df = pd.DataFrame(transformed_data)\n",
    "transformed_df"
   ]
  },
  {
   "cell_type": "code",
   "execution_count": 20,
   "metadata": {},
   "outputs": [
    {
     "data": {
      "text/plain": [
       "(3000, 19)"
      ]
     },
     "execution_count": 20,
     "metadata": {},
     "output_type": "execute_result"
    }
   ],
   "source": [
    "final_df = pd.concat([df, one_hot, transformed_df], axis = 1)\n",
    "final_df.shape"
   ]
  },
  {
   "cell_type": "code",
   "execution_count": 21,
   "metadata": {},
   "outputs": [
    {
     "data": {
      "text/html": [
       "<div>\n",
       "<style scoped>\n",
       "    .dataframe tbody tr th:only-of-type {\n",
       "        vertical-align: middle;\n",
       "    }\n",
       "\n",
       "    .dataframe tbody tr th {\n",
       "        vertical-align: top;\n",
       "    }\n",
       "\n",
       "    .dataframe thead th {\n",
       "        text-align: right;\n",
       "    }\n",
       "</style>\n",
       "<table border=\"1\" class=\"dataframe\">\n",
       "  <thead>\n",
       "    <tr style=\"text-align: right;\">\n",
       "      <th></th>\n",
       "      <th>type</th>\n",
       "      <th>amount</th>\n",
       "      <th>nameOrig</th>\n",
       "      <th>oldbalanceOrg</th>\n",
       "      <th>newbalanceOrig</th>\n",
       "      <th>nameDest</th>\n",
       "      <th>oldbalanceDest</th>\n",
       "      <th>newbalanceDest</th>\n",
       "      <th>isFraud</th>\n",
       "      <th>CASH_IN</th>\n",
       "      <th>CASH_OUT</th>\n",
       "      <th>DEBIT</th>\n",
       "      <th>PAYMENT</th>\n",
       "      <th>TRANSFER</th>\n",
       "      <th>0</th>\n",
       "      <th>1</th>\n",
       "      <th>2</th>\n",
       "      <th>3</th>\n",
       "      <th>4</th>\n",
       "    </tr>\n",
       "  </thead>\n",
       "  <tbody>\n",
       "    <tr>\n",
       "      <th>0</th>\n",
       "      <td>CASH_OUT</td>\n",
       "      <td>140421.18</td>\n",
       "      <td>C1667570766</td>\n",
       "      <td>16004.0</td>\n",
       "      <td>0.00</td>\n",
       "      <td>C2102410298</td>\n",
       "      <td>0.00</td>\n",
       "      <td>140421.18</td>\n",
       "      <td>0</td>\n",
       "      <td>0</td>\n",
       "      <td>1</td>\n",
       "      <td>0</td>\n",
       "      <td>0</td>\n",
       "      <td>0</td>\n",
       "      <td>0.014042</td>\n",
       "      <td>0.000279</td>\n",
       "      <td>0.000000</td>\n",
       "      <td>0.000000</td>\n",
       "      <td>0.001334</td>\n",
       "    </tr>\n",
       "    <tr>\n",
       "      <th>1</th>\n",
       "      <td>CASH_OUT</td>\n",
       "      <td>216666.53</td>\n",
       "      <td>C1495945377</td>\n",
       "      <td>50398.0</td>\n",
       "      <td>0.00</td>\n",
       "      <td>C814408370</td>\n",
       "      <td>10119297.16</td>\n",
       "      <td>10335963.70</td>\n",
       "      <td>0</td>\n",
       "      <td>0</td>\n",
       "      <td>1</td>\n",
       "      <td>0</td>\n",
       "      <td>0</td>\n",
       "      <td>0</td>\n",
       "      <td>0.021667</td>\n",
       "      <td>0.000879</td>\n",
       "      <td>0.000000</td>\n",
       "      <td>0.096030</td>\n",
       "      <td>0.098211</td>\n",
       "    </tr>\n",
       "    <tr>\n",
       "      <th>2</th>\n",
       "      <td>CASH_OUT</td>\n",
       "      <td>234636.20</td>\n",
       "      <td>C269129885</td>\n",
       "      <td>74262.0</td>\n",
       "      <td>0.00</td>\n",
       "      <td>C1389815469</td>\n",
       "      <td>166046.48</td>\n",
       "      <td>400682.68</td>\n",
       "      <td>0</td>\n",
       "      <td>0</td>\n",
       "      <td>1</td>\n",
       "      <td>0</td>\n",
       "      <td>0</td>\n",
       "      <td>0</td>\n",
       "      <td>0.023464</td>\n",
       "      <td>0.001296</td>\n",
       "      <td>0.000000</td>\n",
       "      <td>0.001576</td>\n",
       "      <td>0.003807</td>\n",
       "    </tr>\n",
       "    <tr>\n",
       "      <th>3</th>\n",
       "      <td>CASH_IN</td>\n",
       "      <td>52816.29</td>\n",
       "      <td>C129678616</td>\n",
       "      <td>117751.0</td>\n",
       "      <td>170567.29</td>\n",
       "      <td>C842027837</td>\n",
       "      <td>0.00</td>\n",
       "      <td>0.00</td>\n",
       "      <td>0</td>\n",
       "      <td>1</td>\n",
       "      <td>0</td>\n",
       "      <td>0</td>\n",
       "      <td>0</td>\n",
       "      <td>0</td>\n",
       "      <td>0.005282</td>\n",
       "      <td>0.002054</td>\n",
       "      <td>0.003605</td>\n",
       "      <td>0.000000</td>\n",
       "      <td>0.000000</td>\n",
       "    </tr>\n",
       "    <tr>\n",
       "      <th>4</th>\n",
       "      <td>CASH_OUT</td>\n",
       "      <td>63871.25</td>\n",
       "      <td>C1282823885</td>\n",
       "      <td>6012.0</td>\n",
       "      <td>0.00</td>\n",
       "      <td>C1236511065</td>\n",
       "      <td>456488.36</td>\n",
       "      <td>520359.60</td>\n",
       "      <td>0</td>\n",
       "      <td>0</td>\n",
       "      <td>1</td>\n",
       "      <td>0</td>\n",
       "      <td>0</td>\n",
       "      <td>0</td>\n",
       "      <td>0.006387</td>\n",
       "      <td>0.000105</td>\n",
       "      <td>0.000000</td>\n",
       "      <td>0.004332</td>\n",
       "      <td>0.004944</td>\n",
       "    </tr>\n",
       "  </tbody>\n",
       "</table>\n",
       "</div>"
      ],
      "text/plain": [
       "       type     amount     nameOrig  oldbalanceOrg  newbalanceOrig  \\\n",
       "0  CASH_OUT  140421.18  C1667570766        16004.0            0.00   \n",
       "1  CASH_OUT  216666.53  C1495945377        50398.0            0.00   \n",
       "2  CASH_OUT  234636.20   C269129885        74262.0            0.00   \n",
       "3   CASH_IN   52816.29   C129678616       117751.0       170567.29   \n",
       "4  CASH_OUT   63871.25  C1282823885         6012.0            0.00   \n",
       "\n",
       "      nameDest  oldbalanceDest  newbalanceDest  isFraud  CASH_IN  CASH_OUT  \\\n",
       "0  C2102410298            0.00       140421.18        0        0         1   \n",
       "1   C814408370     10119297.16     10335963.70        0        0         1   \n",
       "2  C1389815469       166046.48       400682.68        0        0         1   \n",
       "3   C842027837            0.00            0.00        0        1         0   \n",
       "4  C1236511065       456488.36       520359.60        0        0         1   \n",
       "\n",
       "   DEBIT  PAYMENT  TRANSFER         0         1         2         3         4  \n",
       "0      0        0         0  0.014042  0.000279  0.000000  0.000000  0.001334  \n",
       "1      0        0         0  0.021667  0.000879  0.000000  0.096030  0.098211  \n",
       "2      0        0         0  0.023464  0.001296  0.000000  0.001576  0.003807  \n",
       "3      0        0         0  0.005282  0.002054  0.003605  0.000000  0.000000  \n",
       "4      0        0         0  0.006387  0.000105  0.000000  0.004332  0.004944  "
      ]
     },
     "execution_count": 21,
     "metadata": {},
     "output_type": "execute_result"
    }
   ],
   "source": [
    "final_df.head()"
   ]
  },
  {
   "cell_type": "code",
   "execution_count": 22,
   "metadata": {},
   "outputs": [],
   "source": [
    "# 훈련에 필요없는 column을 삭제합니다\n",
    "columns_to_drop = ['type', 'isFraud', 'nameOrig', 'nameDest']"
   ]
  },
  {
   "cell_type": "code",
   "execution_count": 23,
   "metadata": {},
   "outputs": [],
   "source": [
    "# 데이터를 train, validation, test 각각 7:2:1의 비율로 나눕니다\n",
    "train_data, validation_data, test_data = np.split(final_df.sample(frac=1, random_state=2021), [int(0.7 * len(final_df)), int(0.9 * len(final_df))])"
   ]
  },
  {
   "cell_type": "markdown",
   "metadata": {},
   "source": [
    "Amazon SageMaker의 XGBoost 컨테이너는 libSVM 또는 CSV 포맷의 데이터를 사용합니다. 본 예제에서는 CSV를 이용합니다. CSV파일에서 첫번째 컬럼을 타겟변수 값으로 지정해야 하고, 헤더를 포함하고 있지 않아야 합니다. 본 예제에서는 데이터를 train | validation | test 데이터셋으로 분리한 후 작업합니다."
   ]
  },
  {
   "cell_type": "code",
   "execution_count": 24,
   "metadata": {},
   "outputs": [],
   "source": [
    "# 각 데이터셋을 노트북 로컬 환경에 저장합니다\n",
    "pd.concat([train_data[y_column], train_data.drop(columns_to_drop, axis=1)], axis=1).to_csv('train.csv', index=False, header=False)\n",
    "pd.concat([validation_data[y_column], validation_data.drop(columns_to_drop, axis=1)], axis=1).to_csv('validation.csv', index=False, header=False)\n",
    "pd.concat([test_data[y_column], test_data.drop(columns_to_drop, axis=1)], axis=1).to_csv('test.csv', index=False, header=False)\n",
    "pd.concat([test_data.drop(columns_to_drop, axis=1)], axis=1).to_csv('test_features.csv', index=False, header=False)"
   ]
  },
  {
   "cell_type": "markdown",
   "metadata": {},
   "source": [
    "SageMaker의 관리형 학습환경에서 이 데이터에 접근할 수 있도록 파일을 S3에 업로드 합니다."
   ]
  },
  {
   "cell_type": "code",
   "execution_count": 25,
   "metadata": {},
   "outputs": [],
   "source": [
    "boto3.Session().resource('s3').Bucket(bucket).Object(os.path.join(prefix, 'train/train.csv')).upload_file('train.csv')\n",
    "boto3.Session().resource('s3').Bucket(bucket).Object(os.path.join(prefix, 'validation/validation.csv')).upload_file('validation.csv')\n",
    "boto3.Session().resource('s3').Bucket(bucket).Object(os.path.join(prefix, 'test/test.csv')).upload_file('test.csv')\n",
    "boto3.Session().resource('s3').Bucket(bucket).Object(os.path.join(prefix, 'test/test_features.csv')).upload_file('test.csv')"
   ]
  },
  {
   "cell_type": "markdown",
   "metadata": {},
   "source": [
    "## Train a model using XGBoost\n",
    "\n",
    "이 notebook에서는 간단하지만 이진 분류에 효과적인 XGBoost 를 사용합니다. XGBoost 는 Gradient Boosting 을 수행하는 open source library 입니다. 계산 성능이 뛰어나고 필요한 기능들을 모두 구현하고 있으며, 많은 머신러닝 경쟁에서 성공적인 성과를 보여주고 있습니다. SageMaker의 관리형, 분산 학습 프레임워크를 이용하여 학습할 수 있도록 간단한 xgboost모델을 시작해 보겠습니다.\n",
    "\n",
    "SageMaker 의 ECR 컨테이너를 통해 해당되는 built-in 알고리즘을 사용할 수 있습니다."
   ]
  },
  {
   "cell_type": "code",
   "execution_count": 26,
   "metadata": {},
   "outputs": [],
   "source": [
    "from sagemaker import image_uris\n",
    "\n",
    "container = sagemaker.image_uris.retrieve(framework = 'xgboost', \n",
    "                                          region = boto3.Session().region_name, \n",
    "                                          version = 'latest')"
   ]
  },
  {
   "cell_type": "markdown",
   "metadata": {},
   "source": [
    "CSV 파일 포맷을 사용하므로 S3의 파일 위치를 알려주는 s3_input 오브젝트를 생성하고 콘텐츠 타입을 CSV로 지정합니다."
   ]
  },
  {
   "cell_type": "code",
   "execution_count": 27,
   "metadata": {},
   "outputs": [],
   "source": [
    "s3_input_train = sagemaker.inputs.TrainingInput(s3_data='s3://{}/{}/train'.format(bucket, prefix), content_type='csv')\n",
    "s3_input_validation = sagemaker.inputs.TrainingInput(s3_data='s3://{}/{}/validation/'.format(bucket, prefix), content_type='csv')"
   ]
  },
  {
   "cell_type": "markdown",
   "metadata": {},
   "source": [
    "다음으로 파라미터를 지정하여 esitmator를 생성합니다.\n",
    "\n",
    "- xgboost 알고리즘 컨테이너 사용\n",
    "- 사용할 IAM 역할(role)\n",
    "- 학습용 인스턴스 타입과 수량 ('local_cpu'를 사용해 해당 노트북의 인스턴스 내에서 학습을 진행할 수도 있습니다.)\n",
    "- 출력데이터를 위한 S3위치\n",
    "- 알고리즘 하이퍼파라미터\n",
    "\n",
    "이제 다음 파라미터를 이용하여 .fit() 명령을 실행합니다.\n",
    "- 학습용(train)/검증용(validation) 데이터가 있는 S3 위치\n",
    "\n",
    "본 예제는 학습과 검증 데이터셋을 모두 사용하므로 두 채널을 모두 지정합니다."
   ]
  },
  {
   "cell_type": "code",
   "execution_count": 28,
   "metadata": {},
   "outputs": [
    {
     "name": "stderr",
     "output_type": "stream",
     "text": [
      "train_instance_count has been renamed in sagemaker>=2.\n",
      "See: https://sagemaker.readthedocs.io/en/stable/v2.html for details.\n",
      "train_instance_type has been renamed in sagemaker>=2.\n",
      "See: https://sagemaker.readthedocs.io/en/stable/v2.html for details.\n"
     ]
    },
    {
     "name": "stdout",
     "output_type": "stream",
     "text": [
      "2021-10-19 00:40:06 Starting - Starting the training job...\n",
      "2021-10-19 00:40:08 Starting - Launching requested ML instancesProfilerReport-1634604005: InProgress\n",
      "...\n",
      "2021-10-19 00:41:03 Starting - Preparing the instances for training.........\n",
      "2021-10-19 00:42:36 Downloading - Downloading input data...\n",
      "2021-10-19 00:42:57 Training - Downloading the training image..\u001b[34mArguments: train\u001b[0m\n",
      "\u001b[34m[2021-10-19:00:43:20:INFO] Running standalone xgboost training.\u001b[0m\n",
      "\u001b[34m[2021-10-19:00:43:20:INFO] File size need to be processed in the node: 0.31mb. Available memory size in the node: 8384.25mb\u001b[0m\n",
      "\u001b[34m[2021-10-19:00:43:20:INFO] Determined delimiter of CSV input is ','\u001b[0m\n",
      "\u001b[34m[00:43:20] S3DistributionType set as FullyReplicated\u001b[0m\n",
      "\u001b[34m[00:43:20] 2100x15 matrix with 31500 entries loaded from /opt/ml/input/data/train?format=csv&label_column=0&delimiter=,\u001b[0m\n",
      "\u001b[34m[2021-10-19:00:43:20:INFO] Determined delimiter of CSV input is ','\u001b[0m\n",
      "\u001b[34m[00:43:20] S3DistributionType set as FullyReplicated\u001b[0m\n",
      "\u001b[34m[00:43:20] 600x15 matrix with 9000 entries loaded from /opt/ml/input/data/validation?format=csv&label_column=0&delimiter=,\u001b[0m\n",
      "\u001b[34m[00:43:20] src/tree/updater_prune.cc:74: tree pruning end, 1 roots, 14 extra nodes, 2 pruned nodes, max_depth=5\u001b[0m\n",
      "\u001b[34m[0]#011train-error:0.030476#011validation-error:0.028333\u001b[0m\n",
      "\u001b[34m[00:43:20] src/tree/updater_prune.cc:74: tree pruning end, 1 roots, 12 extra nodes, 0 pruned nodes, max_depth=4\u001b[0m\n",
      "\u001b[34m[1]#011train-error:0.022381#011validation-error:0.026667\u001b[0m\n",
      "\u001b[34m[00:43:20] src/tree/updater_prune.cc:74: tree pruning end, 1 roots, 14 extra nodes, 4 pruned nodes, max_depth=4\u001b[0m\n",
      "\u001b[34m[2]#011train-error:0.022381#011validation-error:0.026667\u001b[0m\n",
      "\u001b[34m[00:43:20] src/tree/updater_prune.cc:74: tree pruning end, 1 roots, 16 extra nodes, 0 pruned nodes, max_depth=5\u001b[0m\n",
      "\u001b[34m[3]#011train-error:0.018571#011validation-error:0.025\u001b[0m\n",
      "\u001b[34m[00:43:20] src/tree/updater_prune.cc:74: tree pruning end, 1 roots, 12 extra nodes, 4 pruned nodes, max_depth=4\u001b[0m\n",
      "\u001b[34m[4]#011train-error:0.018571#011validation-error:0.025\u001b[0m\n",
      "\n",
      "2021-10-19 00:43:36 Uploading - Uploading generated training model\n",
      "2021-10-19 00:43:36 Completed - Training job completed\n",
      "Training seconds: 63\n",
      "Billable seconds: 63\n"
     ]
    }
   ],
   "source": [
    "sess = sagemaker.Session()\n",
    "\n",
    "job_name='banking-fraud-'+strftime(\"%Y-%m-%d-%H-%M-%S\", gmtime())\n",
    "\n",
    "xgb = sagemaker.estimator.Estimator(container,\n",
    "                                    role, \n",
    "                                    train_instance_count=1, \n",
    "                                    train_instance_type='ml.m4.xlarge', \n",
    "                                    output_path='s3://{}/{}/output'.format(bucket, prefix),\n",
    "                                    sagemaker_session=sess,\n",
    "                                    base_job_name=job_name)\n",
    "\n",
    "xgb.set_hyperparameters(max_depth=5,\n",
    "                        eta=0.2,\n",
    "                        gamma=4,\n",
    "                        min_child_weight=6,\n",
    "                        subsample=0.8,\n",
    "                        silent=0,\n",
    "                        objective='binary:logistic',\n",
    "                        num_round=5)\n",
    "\n",
    "xgb.fit({'train': s3_input_train, 'validation': s3_input_validation})"
   ]
  },
  {
   "cell_type": "markdown",
   "metadata": {},
   "source": [
    "## Hosting\n",
    "### Create endpoint\n",
    "\n",
    "입력데이터에 대해 xgboost 모델의 학습이 완료되면 이 모델을 실시간 추론을 위한 엔드포인트로 배포합니다."
   ]
  },
  {
   "cell_type": "code",
   "execution_count": 29,
   "metadata": {},
   "outputs": [
    {
     "name": "stdout",
     "output_type": "stream",
     "text": [
      "-----!CPU times: user 116 ms, sys: 0 ns, total: 116 ms\n",
      "Wall time: 2min 31s\n"
     ]
    }
   ],
   "source": [
    "%%time\n",
    "\n",
    "endpoint_name='banking-fraud-'+strftime(\"%Y-%m-%d-%H-%M-%S\", gmtime())\n",
    "\n",
    "xgb_predictor = xgb.deploy(initial_instance_count=1,\n",
    "                           instance_type='ml.m4.xlarge', \n",
    "                           endpoint_name=endpoint_name)"
   ]
  },
  {
   "cell_type": "markdown",
   "metadata": {},
   "source": [
    "## Perform Inference\n",
    "### Make predictions using the endpoint\n",
    "\n",
    "머신러닝 모델의 성능을 확인하기 위해 실제값과 예측값을 비교합니다. 추론용 데이터를 엔드포인트에 전달하고 결과를 받아옵니다. 데이터를 HTTP POST request로 보내기 위해 CSV 형태로 직렬화(serialize)하고 결과로 리턴되는 CSV를 디코딩합니다.\n",
    "\n",
    "주의: SageMaker XGBoost에서 CSV포맷으로 추론할 때 요청 데이터는 타겟속성 컬럼을 포함하지 않습니다."
   ]
  },
  {
   "cell_type": "code",
   "execution_count": 30,
   "metadata": {},
   "outputs": [],
   "source": [
    "from sagemaker.serializers import CSVSerializer\n",
    "\n",
    "xgb_predictor.serializer = CSVSerializer()"
   ]
  },
  {
   "cell_type": "markdown",
   "metadata": {},
   "source": [
    "엔드포인트를 호출하는 함수를 생성합니다.\n",
    "\n",
    "- 테스트 데이터셋을 반복 (Loop)\n",
    "- rows 만큼 미니매치로 나누기\n",
    "- 미니배치를 CSV string payloads로 변환 (타겟속성 변수 제거)\n",
    "- XGBoost 엔드포인트를 호출하고 예측값 수신\n",
    "- CSV 결과로 리턴된 예측값을 다시 NumPy 배열로 변환"
   ]
  },
  {
   "cell_type": "code",
   "execution_count": 31,
   "metadata": {},
   "outputs": [
    {
     "name": "stdout",
     "output_type": "stream",
     "text": [
      "0 out of 1 completed\n"
     ]
    }
   ],
   "source": [
    "def predict(data, rows=500):\n",
    "    split_array = np.array_split(data, int(data.shape[0] / float(rows) + 1))\n",
    "    predictions = ''\n",
    "    for i, array in enumerate(split_array):\n",
    "        predictions = ','.join([predictions, xgb_predictor.predict(array).decode('utf-8')])\n",
    "        if i % 10 == 0:\n",
    "            print(i, 'out of', len(split_array), 'completed')\n",
    "    return np.fromstring(predictions[1:], sep=',')\n",
    "\n",
    "predictions = predict(test_data.drop(columns_to_drop, axis=1).to_numpy())"
   ]
  },
  {
   "cell_type": "code",
   "execution_count": 32,
   "metadata": {},
   "outputs": [
    {
     "name": "stdout",
     "output_type": "stream",
     "text": [
      "              precision    recall  f1-score   support\n",
      "\n",
      "           0       0.98      0.99      0.98       265\n",
      "           1       0.91      0.86      0.88        35\n",
      "\n",
      "    accuracy                           0.97       300\n",
      "   macro avg       0.95      0.92      0.93       300\n",
      "weighted avg       0.97      0.97      0.97       300\n",
      "\n",
      "Test accuracy: 0.9733333333333334\n",
      "ROC_AUC score: 0.922911051212938\n"
     ]
    }
   ],
   "source": [
    "# F1-score, accurancy, ROC 값을 확인합니다\n",
    "from sklearn.metrics import classification_report, roc_auc_score, accuracy_score # import classification metrics\n",
    "\n",
    "print(classification_report(test_data[y_column], np.round(predictions)))\n",
    "print(\"Test accuracy:\", accuracy_score(test_data[y_column], np.round(predictions)))\n",
    "print(\"ROC_AUC score:\", roc_auc_score(test_data[y_column], np.round(predictions) / 1000))"
   ]
  },
  {
   "cell_type": "markdown",
   "metadata": {},
   "source": [
    "예측결과와 실제값을 비교하는 Confustion matrix를 생성합니다. 알고리즘의 샘플링과정에서 랜덤요소가 반영되므로 결과의 숫자는 위 결과와 정확히 동일하지 않을 수 있습니다."
   ]
  },
  {
   "cell_type": "code",
   "execution_count": 33,
   "metadata": {},
   "outputs": [
    {
     "data": {
      "text/html": [
       "<div>\n",
       "<style scoped>\n",
       "    .dataframe tbody tr th:only-of-type {\n",
       "        vertical-align: middle;\n",
       "    }\n",
       "\n",
       "    .dataframe tbody tr th {\n",
       "        vertical-align: top;\n",
       "    }\n",
       "\n",
       "    .dataframe thead th {\n",
       "        text-align: right;\n",
       "    }\n",
       "</style>\n",
       "<table border=\"1\" class=\"dataframe\">\n",
       "  <thead>\n",
       "    <tr style=\"text-align: right;\">\n",
       "      <th>predictions</th>\n",
       "      <th>0.0</th>\n",
       "      <th>1.0</th>\n",
       "    </tr>\n",
       "    <tr>\n",
       "      <th>actuals</th>\n",
       "      <th></th>\n",
       "      <th></th>\n",
       "    </tr>\n",
       "  </thead>\n",
       "  <tbody>\n",
       "    <tr>\n",
       "      <th>0</th>\n",
       "      <td>262</td>\n",
       "      <td>3</td>\n",
       "    </tr>\n",
       "    <tr>\n",
       "      <th>1</th>\n",
       "      <td>5</td>\n",
       "      <td>30</td>\n",
       "    </tr>\n",
       "  </tbody>\n",
       "</table>\n",
       "</div>"
      ],
      "text/plain": [
       "predictions  0.0  1.0\n",
       "actuals              \n",
       "0            262    3\n",
       "1              5   30"
      ]
     },
     "execution_count": 33,
     "metadata": {},
     "output_type": "execute_result"
    }
   ],
   "source": [
    "pd.crosstab(index=test_data['isFraud'], columns=np.round(predictions), rownames=['actuals'], colnames=['predictions'])"
   ]
  },
  {
   "cell_type": "markdown",
   "metadata": {},
   "source": [
    "TP, TN, FP, FN 은 다음과 같이 정의 되어 있습니다.\n",
    "\n",
    "- TP = Truly (identified as) Positive\n",
    "- TN = Truly (identified as) Negative\n",
    "- FP = Falsely (identified as) Positive\n",
    "- FN = Falsely (identified as) Negative\n",
    "\n",
    "위의 테이블의 각 셀에 해당하는 것을 표시하였습니다.\n",
    "\n",
    "| actuals\\predictions | 0 | 1 |\n",
    "| --- | --- | --- |\n",
    "| 0 | TN | FP |\n",
    "| 1 | FN | TP |\n",
    "\n",
    "\n",
    "이를 바탕으로 Accuracy, Precision, Recall 을 측정할 수 있습니다.\n",
    "- Accuracy = (TP + TN) / (TP + FP + FN + TP)\n",
    "- Precision = TP / (TP + FP) = 670 / (670 + 29)\n",
    "- Recall = TP / (TP + FN) = 670 / (670 + 157)"
   ]
  },
  {
   "cell_type": "markdown",
   "metadata": {},
   "source": [
    "## Stop / Close the Endpoint\n",
    "\n",
    "본 예제를 모두 마무리한 후 아래 셀을 실행합니다. 다음 명령은 추론 단계에서 생성한 SageMaker에서 호스팅되고 있는 엔드포인트를 제거합니다. 엔드포인트를 삭제하지 않으면 계속 사용요금이 발생할 수 있습니다."
   ]
  },
  {
   "cell_type": "code",
   "execution_count": 34,
   "metadata": {},
   "outputs": [
    {
     "name": "stderr",
     "output_type": "stream",
     "text": [
      "The endpoint attribute has been renamed in sagemaker>=2.\n",
      "See: https://sagemaker.readthedocs.io/en/stable/v2.html for details.\n"
     ]
    }
   ],
   "source": [
    "# sagemaker.Session().delete_endpoint(xgb_predictor.endpoint)"
   ]
  }
 ],
 "metadata": {
  "kernelspec": {
   "display_name": "conda_tensorflow2_p36",
   "language": "python",
   "name": "conda_tensorflow2_p36"
  },
  "language_info": {
   "codemirror_mode": {
    "name": "ipython",
    "version": 3
   },
   "file_extension": ".py",
   "mimetype": "text/x-python",
   "name": "python",
   "nbconvert_exporter": "python",
   "pygments_lexer": "ipython3",
   "version": "3.6.13"
  }
 },
 "nbformat": 4,
 "nbformat_minor": 4
}
