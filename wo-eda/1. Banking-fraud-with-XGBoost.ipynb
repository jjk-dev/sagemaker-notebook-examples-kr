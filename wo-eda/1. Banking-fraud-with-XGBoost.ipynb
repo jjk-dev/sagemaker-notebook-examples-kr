{
 "cells": [
  {
   "cell_type": "markdown",
   "metadata": {},
   "source": [
    "# Banking Fraud Detection with RandomForestClassifier\n",
    "\n",
    "Detecting fraud in banking is very important for real banks. Very few of these are fraud, but if the transaction isn’t well detected, the damage is huge. In this task, you will create a binary classifier for mobile money transaction data. You can also download data from [kaggle](https://www.kaggle.com/ntnu-testimon/paysim1). Since the dataset has already been processed once, the number of columns or rows may be different.\n",
    "\n",
    "## Data description\n",
    "\n",
    "This simulation dataset helps financial research, and it contains 9 columns and 300 records. Each record means one transaction that includes cash in, cash out, debit, credit, or transfer. Also each transcation has amount, name of origin and etc. The label or target column is ``isFraud`` that shows whether fraud or not.\n",
    "\n",
    "- type - CASH-IN, CASH-OUT, DEBIT, PAYMENT and TRANSFER.\n",
    "- amount - amount of the transaction in local currency.\n",
    "- nameOrig - customer who started the transaction\n",
    "- oldbalanceOrg - initial balance before the transaction\n",
    "- newbalanceOrig - new balance after the transaction\n",
    "- nameDest - customer who is the recipient of the transaction\n",
    "- oldbalanceDest - initial balance recipient before the transaction. Note that there is not information for customers that start with M (Merchants).\n",
    "- newbalanceDest - new balance recipient after the transaction. Note that there is not information for customers that start with M (Merchants).\n",
    "- isFraud - This is the transactions made by the fraudulent agents inside the simulation. In this specific dataset the fraudulent behavior of the agents aims to profit by taking control or customers accounts and try to empty the funds by transferring to another account and then cashing out of the system.\n",
    "\n",
    "## IMPORTANT\n",
    "This notebook assumes that you have already performed data preprocessing with SageMaker Data Wrangler. Please look up this [github](https://github.com/jjk-dev/amazon-sagemaker-studio-workshop.git)."
   ]
  },
  {
   "cell_type": "markdown",
   "metadata": {},
   "source": [
    "## Set up\n",
    "Download several libraries to proceed with this notebook.\n",
    "\n",
    "### Import libraries"
   ]
  },
  {
   "cell_type": "code",
   "execution_count": 1,
   "metadata": {},
   "outputs": [],
   "source": [
    "import os\n",
    "import math\n",
    "import numpy as np\n",
    "import pandas as pd\n",
    "\n",
    "from sklearn.model_selection import train_test_split # import train_test_split function\n",
    "from sklearn.metrics import classification_report # import classification metrics\n",
    "from sklearn.ensemble import RandomForestClassifier #import RandomForestClassifier\n",
    "\n",
    "import sagemaker \n",
    "import boto3"
   ]
  },
  {
   "cell_type": "markdown",
   "metadata": {},
   "source": [
    "### Set boto3 and variables\n",
    "\n",
    "Connect the session and search for IAM (Identity and Access Management) role. And load data then set some values such as ``S3 bucket name`` and ``file name``."
   ]
  },
  {
   "cell_type": "code",
   "execution_count": 2,
   "metadata": {},
   "outputs": [],
   "source": [
    "sagemaker_session = sagemaker.Session()\n",
    "s3 = boto3.resource('s3')"
   ]
  },
  {
   "cell_type": "markdown",
   "metadata": {},
   "source": [
    "### Change the values below"
   ]
  },
  {
   "cell_type": "code",
   "execution_count": null,
   "metadata": {},
   "outputs": [],
   "source": [
    "# Set S3 bucket to get csv file\n",
    "bucket = 'CHANGE TO YOUR S3 BUCKET NAME'        # e.g. sagemaker-000000000000/.../default\n",
    "file = 'CHANGE TO YOUR TRANSFORMED DATA'        # e.g. part-00000-edb8e4ca....csv\n",
    "\n",
    "data_location = 's3://{}/{}'.format(bucket, file) "
   ]
  },
  {
   "cell_type": "markdown",
   "metadata": {},
   "source": [
    "## Read dataset\n",
    "\n",
    "Read data from your S3 bucket that you set above."
   ]
  },
  {
   "cell_type": "code",
   "execution_count": 4,
   "metadata": {},
   "outputs": [
    {
     "data": {
      "text/plain": [
       "(3000, 11)"
      ]
     },
     "execution_count": 4,
     "metadata": {},
     "output_type": "execute_result"
    }
   ],
   "source": [
    "df = pd.read_csv(data_location)\n",
    "\n",
    "df.shape"
   ]
  },
  {
   "cell_type": "code",
   "execution_count": 5,
   "metadata": {},
   "outputs": [
    {
     "data": {
      "text/html": [
       "<div>\n",
       "<style scoped>\n",
       "    .dataframe tbody tr th:only-of-type {\n",
       "        vertical-align: middle;\n",
       "    }\n",
       "\n",
       "    .dataframe tbody tr th {\n",
       "        vertical-align: top;\n",
       "    }\n",
       "\n",
       "    .dataframe thead th {\n",
       "        text-align: right;\n",
       "    }\n",
       "</style>\n",
       "<table border=\"1\" class=\"dataframe\">\n",
       "  <thead>\n",
       "    <tr style=\"text-align: right;\">\n",
       "      <th></th>\n",
       "      <th>amount</th>\n",
       "      <th>oldbalanceOrg</th>\n",
       "      <th>newbalanceOrig</th>\n",
       "      <th>oldbalanceDest</th>\n",
       "      <th>newbalanceDest</th>\n",
       "      <th>isFraud</th>\n",
       "      <th>type_PAYMENT</th>\n",
       "      <th>type_CASH_OUT</th>\n",
       "      <th>type_CASH_IN</th>\n",
       "      <th>type_TRANSFER</th>\n",
       "      <th>type_DEBIT</th>\n",
       "    </tr>\n",
       "  </thead>\n",
       "  <tbody>\n",
       "    <tr>\n",
       "      <th>0</th>\n",
       "      <td>140421.18</td>\n",
       "      <td>16004</td>\n",
       "      <td>0.00</td>\n",
       "      <td>0.00</td>\n",
       "      <td>140421.18</td>\n",
       "      <td>0</td>\n",
       "      <td>0.0</td>\n",
       "      <td>1.0</td>\n",
       "      <td>0.0</td>\n",
       "      <td>0.0</td>\n",
       "      <td>0.0</td>\n",
       "    </tr>\n",
       "    <tr>\n",
       "      <th>1</th>\n",
       "      <td>216666.53</td>\n",
       "      <td>50398</td>\n",
       "      <td>0.00</td>\n",
       "      <td>10119297.16</td>\n",
       "      <td>10335963.70</td>\n",
       "      <td>0</td>\n",
       "      <td>0.0</td>\n",
       "      <td>1.0</td>\n",
       "      <td>0.0</td>\n",
       "      <td>0.0</td>\n",
       "      <td>0.0</td>\n",
       "    </tr>\n",
       "    <tr>\n",
       "      <th>2</th>\n",
       "      <td>234636.20</td>\n",
       "      <td>74262</td>\n",
       "      <td>0.00</td>\n",
       "      <td>166046.48</td>\n",
       "      <td>400682.68</td>\n",
       "      <td>0</td>\n",
       "      <td>0.0</td>\n",
       "      <td>1.0</td>\n",
       "      <td>0.0</td>\n",
       "      <td>0.0</td>\n",
       "      <td>0.0</td>\n",
       "    </tr>\n",
       "    <tr>\n",
       "      <th>3</th>\n",
       "      <td>52816.29</td>\n",
       "      <td>117751</td>\n",
       "      <td>170567.29</td>\n",
       "      <td>0.00</td>\n",
       "      <td>0.00</td>\n",
       "      <td>0</td>\n",
       "      <td>0.0</td>\n",
       "      <td>0.0</td>\n",
       "      <td>1.0</td>\n",
       "      <td>0.0</td>\n",
       "      <td>0.0</td>\n",
       "    </tr>\n",
       "    <tr>\n",
       "      <th>4</th>\n",
       "      <td>63871.25</td>\n",
       "      <td>6012</td>\n",
       "      <td>0.00</td>\n",
       "      <td>456488.36</td>\n",
       "      <td>520359.60</td>\n",
       "      <td>0</td>\n",
       "      <td>0.0</td>\n",
       "      <td>1.0</td>\n",
       "      <td>0.0</td>\n",
       "      <td>0.0</td>\n",
       "      <td>0.0</td>\n",
       "    </tr>\n",
       "  </tbody>\n",
       "</table>\n",
       "</div>"
      ],
      "text/plain": [
       "      amount  oldbalanceOrg  newbalanceOrig  oldbalanceDest  newbalanceDest  \\\n",
       "0  140421.18          16004            0.00            0.00       140421.18   \n",
       "1  216666.53          50398            0.00     10119297.16     10335963.70   \n",
       "2  234636.20          74262            0.00       166046.48       400682.68   \n",
       "3   52816.29         117751       170567.29            0.00            0.00   \n",
       "4   63871.25           6012            0.00       456488.36       520359.60   \n",
       "\n",
       "   isFraud  type_PAYMENT  type_CASH_OUT  type_CASH_IN  type_TRANSFER  \\\n",
       "0        0           0.0            1.0           0.0            0.0   \n",
       "1        0           0.0            1.0           0.0            0.0   \n",
       "2        0           0.0            1.0           0.0            0.0   \n",
       "3        0           0.0            0.0           1.0            0.0   \n",
       "4        0           0.0            1.0           0.0            0.0   \n",
       "\n",
       "   type_DEBIT  \n",
       "0         0.0  \n",
       "1         0.0  \n",
       "2         0.0  \n",
       "3         0.0  \n",
       "4         0.0  "
      ]
     },
     "execution_count": 5,
     "metadata": {},
     "output_type": "execute_result"
    }
   ],
   "source": [
    "df.head()"
   ]
  },
  {
   "cell_type": "markdown",
   "metadata": {},
   "source": [
    "## Train a model using RandomForestClassifier"
   ]
  },
  {
   "cell_type": "code",
   "execution_count": 6,
   "metadata": {},
   "outputs": [],
   "source": [
    "# Set the feature and target columns\n",
    "features = df.drop('isFraud', axis=1)\n",
    "target = df.isFraud\n",
    "\n",
    "# split the data into train and test\n",
    "x_train, x_test, y_train, y_test = train_test_split(features, target, test_size=0.3)"
   ]
  },
  {
   "cell_type": "code",
   "execution_count": 7,
   "metadata": {},
   "outputs": [],
   "source": [
    "# Modeling\n",
    "model = RandomForestClassifier(n_estimators = 10)\n",
    "\n",
    "# Train\n",
    "model.fit(x_train, y_train)\n",
    "\n",
    "# Predict\n",
    "y_pred = model.predict(x_test)\n",
    "y_real = y_test"
   ]
  },
  {
   "cell_type": "code",
   "execution_count": 8,
   "metadata": {},
   "outputs": [
    {
     "name": "stdout",
     "output_type": "stream",
     "text": [
      "              precision    recall  f1-score   support\n",
      "\n",
      "           0       0.99      0.99      0.99       801\n",
      "           1       0.93      0.93      0.93        99\n",
      "\n",
      "    accuracy                           0.98       900\n",
      "   macro avg       0.96      0.96      0.96       900\n",
      "weighted avg       0.98      0.98      0.98       900\n",
      "\n"
     ]
    }
   ],
   "source": [
    "print(classification_report(y_real, y_pred))"
   ]
  }
 ],
 "metadata": {
  "instance_type": "ml.t3.medium",
  "kernelspec": {
   "display_name": "Python 3 (Data Science)",
   "language": "python",
   "name": "python3__SAGEMAKER_INTERNAL__arn:aws:sagemaker:ap-northeast-2:806072073708:image/datascience-1.0"
  },
  "language_info": {
   "codemirror_mode": {
    "name": "ipython",
    "version": 3
   },
   "file_extension": ".py",
   "mimetype": "text/x-python",
   "name": "python",
   "nbconvert_exporter": "python",
   "pygments_lexer": "ipython3",
   "version": "3.7.10"
  }
 },
 "nbformat": 4,
 "nbformat_minor": 4
}
